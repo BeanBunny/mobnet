{
 "cells": [
  {
   "cell_type": "code",
   "execution_count": null,
   "metadata": {},
   "outputs": [],
   "source": [
    "# !git clone \"https://github.com/BeanBunny/mobnet\"\n",
    "# try using the 1000 layer too\n",
    "# cnn style final layers instead of the fully connected"
   ]
  },
  {
   "cell_type": "code",
   "execution_count": null,
   "metadata": {},
   "outputs": [],
   "source": [
    "import torch\n",
    "import numpy as np\n",
    "import sklearn.model_selection\n",
    "from tqdm import tqdm\n",
    "import os\n",
    "import torchvision\n",
    "\n",
    "lr = 0.01\n",
    "EPOCHS = 200\n",
    "BATCH_SIZE = 20\n",
    "WORKERS = 0\n",
    "SPLIT = 0.8\n",
    "MOMENTUM = 0.9\n",
    "WEIGHT_DECAY = 0.00004\n",
    "STEP_SIZE = 1\n",
    "GAMMA = 0.7\n",
    "log_interval = 10\n",
    "\n",
    "dataset_path = os.path.join(\".\", \"archive.zip\")\n",
    "path1 = os.path.join(\".\", \"data\", \"training\")\n",
    "path2 = os.path.join(\".\", \"data\", \"validation\")\n",
    "print(dataset_path, path1, path2)"
   ]
  },
  {
   "cell_type": "code",
   "execution_count": null,
   "metadata": {},
   "outputs": [],
   "source": [
    "import zipfile\n",
    "with zipfile.ZipFile(dataset_path, \"r\") as zip_ref:\n",
    "    zip_ref.extractall(\"./archive\")"
   ]
  },
  {
   "cell_type": "code",
   "execution_count": null,
   "metadata": {},
   "outputs": [],
   "source": [
    "!python dataset.py"
   ]
  },
  {
   "cell_type": "code",
   "execution_count": null,
   "metadata": {},
   "outputs": [],
   "source": [
    "model = torch.hub.load(\"pytorch/vision:v0.10.0\", \"mobilenet_v2\", pretrained=True)\n",
    "class MobNet(torch.nn.Module):\n",
    "    def __init__(self):\n",
    "        super(MobNet, self).__init__()\n",
    "        flatten = torch.nn.Flatten()\n",
    "        drop = torch.nn.Dropout(0.2)\n",
    "        linear = torch.nn.Linear(62720, 7840)\n",
    "        linear2 = torch.nn.Linear(7840, 980)\n",
    "        linear3 = torch.nn.Linear(980, 2)\n",
    "        soft = torch.nn.Softmax(dim=1)\n",
    "        self.model = torch.nn.Sequential(*(list(model.children())[:-1]))\n",
    "        self.fc = torch.nn.Sequential(*(flatten, drop, linear, linear2, linear3, soft))\n",
    "        # model.classifier[1] = nn.Linear(model.last_channel, 2)\n",
    "    def forward(self, x):\n",
    "        x1 = self.model(x)\n",
    "        x2 = self.fc(x1)\n",
    "        return x2\n",
    "finalModel = MobNet()"
   ]
  },
  {
   "cell_type": "code",
   "execution_count": null,
   "metadata": {},
   "outputs": [],
   "source": [
    "device = torch.device(\"cuda:0\" if torch.cuda.is_available() else \"cpu\")\n",
    "finalModel.to(device)\n",
    "device"
   ]
  },
  {
   "cell_type": "code",
   "execution_count": null,
   "metadata": {},
   "outputs": [],
   "source": [
    "transform = torchvision.transforms.Compose([torchvision.transforms.Resize((224,224)), torchvision.transforms.ToTensor(), torchvision.transforms.Normalize(mean=[0.485, 0.456, 0.406], std=[0.229, 0.224, 0.225])])\n",
    "\n",
    "train = torchvision.datasets.ImageFolder(path1, transform=transform)\n",
    "test = torchvision.datasets.ImageFolder(path2, transform=transform)\n",
    "\n",
    "print('Training set has {} instances'.format(len(train)))\n",
    "print('Testing set has {} instances'.format(len(test)))\n",
    "\n",
    "tr_loader = torch.utils.data.DataLoader(train, batch_size=BATCH_SIZE, shuffle=True, num_workers=WORKERS)\n",
    "te_loader = torch.utils.data.DataLoader(test, batch_size=BATCH_SIZE, shuffle=True, num_workers=WORKERS)"
   ]
  },
  {
   "cell_type": "code",
   "execution_count": null,
   "metadata": {},
   "outputs": [],
   "source": [
    "loss_fn = torch.nn.CrossEntropyLoss()\n",
    "optimizer = torch.optim.Adam(finalModel.parameters(), lr=lr, weight_decay=WEIGHT_DECAY)\n",
    "scheduler = torch.optim.lr_scheduler.StepLR(optimizer, step_size=STEP_SIZE, gamma=GAMMA)"
   ]
  },
  {
   "cell_type": "code",
   "execution_count": null,
   "metadata": {},
   "outputs": [],
   "source": [
    "def training(model, optimizer, epoch):\n",
    "    lastl = 0\n",
    "    for i, data in enumerate(tr_loader):\n",
    "        inputs, labels = data\n",
    "        labels = labels.to(device)\n",
    "        inputs = inputs.to(device, dtype=torch.float)\n",
    "        optimizer.zero_grad()\n",
    "        outputs = model(inputs)\n",
    "        outputs = torch.argmax(outputs, dim=1)\n",
    "        outputs = torch.reshape(outputs.type(torch.DoubleTensor), (1, BATCH_SIZE))\n",
    "        outputs.requires_grad=True\n",
    "        labels = torch.reshape(labels.type(torch.DoubleTensor), (1, BATCH_SIZE))\n",
    "        labels.requires_grad=True\n",
    "        loss = loss_fn(outputs, labels)\n",
    "        loss.backward()\n",
    "        optimizer.step()\n",
    "        \n",
    "        if i % log_interval == 0:\n",
    "            print('Train Epoch: {} [{}/{} ({:.0f}%)]\\tLoss: {:.6f}'.format(\n",
    "                epoch, i * len(data), len(tr_loader.dataset),\n",
    "                100. * i / len(tr_loader), loss.item()))\n",
    "        lastl = loss.item()\n",
    "    return lastl"
   ]
  },
  {
   "cell_type": "code",
   "execution_count": null,
   "metadata": {},
   "outputs": [],
   "source": [
    "def run_training(model, optimizer):\n",
    "    for epoch in tqdm(range(EPOCHS)):\n",
    "        print('EPOCH {}:'.format(epoch + 1))\n",
    "        model.train(True)\n",
    "        avg_loss = training(model, optimizer, epoch)\n",
    "        model.train(False)\n",
    "        scheduler.step()\n",
    "        print('loss: {}'.format(avg_loss))\n",
    "        if epoch == 0:\n",
    "            best_loss = avg_loss\n",
    "        if best_loss > avg_loss:\n",
    "            best_loss = avg_loss\n",
    "            bestweights = model.state_dict()\n",
    "            bestepoch = epoch + 1\n",
    "    print(bestepoch)\n",
    "    model_path = \"model_{}.pt\".format(bestepoch)\n",
    "    torch.save(bestweights, model_path)\n",
    "    return model_path\n",
    "\n",
    "model_path = run_training(finalModel, optimizer)"
   ]
  },
  {
   "cell_type": "markdown",
   "metadata": {},
   "source": [
    "<h1>Testing</h1>"
   ]
  },
  {
   "cell_type": "code",
   "execution_count": null,
   "metadata": {},
   "outputs": [],
   "source": [
    "import sklearn.metrics\n",
    "finalModel.load_state_dict(torch.load(model_path))\n",
    "finalModel.eval()\n",
    "print(device)"
   ]
  },
  {
   "cell_type": "code",
   "execution_count": null,
   "metadata": {},
   "outputs": [],
   "source": [
    "def testing(model):\n",
    "    result = []\n",
    "    result2 = []\n",
    "    temp_loss = 0\n",
    "    correct = 0\n",
    "    for _, data in enumerate(te_loader):\n",
    "        inputs, labels = data\n",
    "        labels = labels.to(device)\n",
    "        inputs = inputs.to(device, dtype=torch.float)\n",
    "        outputs = model(inputs)\n",
    "        labels = labels.cpu().detach().numpy()\n",
    "        inputs = inputs.cpu().detach().numpy()\n",
    "        outputs = outputs.cpu().detach().numpy()\n",
    "        temp_loss += loss_fn(outputs, labels)\n",
    "        outputs = outputs.argmax(axis=1)\n",
    "        correct += outputs.eq(labels)\n",
    "        print(correct)\n",
    "        print(correct.sum())\n",
    "        print(correct.sum().item())\n",
    "        result.append(outputs)\n",
    "        result2.append(labels)\n",
    "    test_loss /= len(te_loader)\n",
    "\n",
    "    print('\\nTest set: Average loss: {:.4f}, Accuracy: {}/{} ({:.0f}%)\\n'.format(\n",
    "        test_loss, correct, len(te_loader.dataset),\n",
    "        100. * correct / len(te_loader.dataset)))\n",
    "    return np.concatenate(result), np.concatenate(result2)\n",
    "outputs, grounds = testing(finalModel)"
   ]
  },
  {
   "cell_type": "code",
   "execution_count": null,
   "metadata": {},
   "outputs": [],
   "source": [
    "print(sklearn.metrics.accuracy_score(grounds, outputs))"
   ]
  },
  {
   "cell_type": "code",
   "execution_count": null,
   "metadata": {},
   "outputs": [],
   "source": [
    "print(sklearn.metrics.confusion_matrix(grounds, outputs))"
   ]
  },
  {
   "cell_type": "code",
   "execution_count": null,
   "metadata": {},
   "outputs": [],
   "source": [
    "# input = torch.randn(1,3,224,224, device=\"cuda\")\n",
    "# input_names = [ \"actual_input_1\" ] + [ \"learned_%d\" % i for i in range(16) ]\n",
    "# output_names = [ \"output1\" ]\n",
    "# torch.onnx.export(finalModel, input, \"mobilenet_v2.onnx\", input_names=input_names, output_names=output_names)"
   ]
  }
 ],
 "metadata": {
  "kernelspec": {
   "display_name": "Python 3.8.12 ('DL')",
   "language": "python",
   "name": "python3"
  },
  "language_info": {
   "codemirror_mode": {
    "name": "ipython",
    "version": 3
   },
   "file_extension": ".py",
   "mimetype": "text/x-python",
   "name": "python",
   "nbconvert_exporter": "python",
   "pygments_lexer": "ipython3",
   "version": "3.8.12"
  },
  "orig_nbformat": 4,
  "vscode": {
   "interpreter": {
    "hash": "60653b6c9b7c76181fad61bcca5f8a56c3a5ba90d9a3b68384223e7f917993b1"
   }
  }
 },
 "nbformat": 4,
 "nbformat_minor": 2
}
