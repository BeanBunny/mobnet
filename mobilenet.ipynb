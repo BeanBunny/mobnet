{
 "cells": [
  {
   "cell_type": "code",
   "execution_count": null,
   "metadata": {},
   "outputs": [],
   "source": [
    "# !git clone \"https://github.com/BeanBunny/mobnet\""
   ]
  },
  {
   "cell_type": "code",
   "execution_count": null,
   "metadata": {},
   "outputs": [],
   "source": [
    "import torch\n",
    "import cv2\n",
    "import numpy as np\n",
    "import glob\n",
    "import sklearn.model_selection\n",
    "from tqdm import tqdm\n",
    "from torchsummary import summary\n",
    "\n",
    "lr = 0.0001\n",
    "EPOCHS = 20\n",
    "BATCH_SIZE = 20"
   ]
  },
  {
   "cell_type": "code",
   "execution_count": null,
   "metadata": {},
   "outputs": [],
   "source": [
    "import zipfile\n",
    "with zipfile.ZipFile(\"./JS.zip\", \"r\") as zip_ref:\n",
    "    zip_ref.extractall(\"./\")"
   ]
  },
  {
   "cell_type": "code",
   "execution_count": null,
   "metadata": {},
   "outputs": [],
   "source": [
    "model = torch.hub.load(\"pytorch/vision:v0.10.0\", \"mobilenet_v2\", pretrained=True)\n",
    "class MobNet(torch.nn.Module):\n",
    "    def __init__(self):\n",
    "        super(MobNet, self).__init__()\n",
    "        flatten = torch.nn.Flatten()\n",
    "        drop = torch.nn.Dropout(0.2)\n",
    "        linear = torch.nn.Linear(62720, 2)\n",
    "        soft = torch.nn.Softmax(dim=1)\n",
    "        self.model = torch.nn.Sequential(*(list(model.children())[:-1]))\n",
    "        self.fc = torch.nn.Sequential(*(flatten, drop, linear, soft))\n",
    "    def forward(self, x):\n",
    "        x1 = self.model(x)\n",
    "        x2 = self.fc(x1)\n",
    "        return x2\n",
    "finalModel = MobNet()"
   ]
  },
  {
   "cell_type": "code",
   "execution_count": null,
   "metadata": {},
   "outputs": [],
   "source": [
    "device = torch.device(\"cuda:0\" if torch.cuda.is_available() else \"cpu\")\n",
    "finalModel.to(device)\n",
    "device"
   ]
  },
  {
   "cell_type": "code",
   "execution_count": null,
   "metadata": {},
   "outputs": [],
   "source": [
    "paths = [\"./JS/cat/*.jpg\", \"./JS/dog/*.jpg\"]\n",
    "labels = {\"cat\": 0, \"dog\": 1}\n",
    "def func(path):\n",
    "    result = []\n",
    "    for j in glob.glob(path):\n",
    "        i = cv2.imread(j, cv2.COLOR_BGR2RGB)\n",
    "        i = i/255\n",
    "        i = np.transpose(i)\n",
    "        i = (i, labels[path.split('/')[2]])\n",
    "        result.append(i)\n",
    "    return result\n",
    "\n",
    "images = func(paths[0])\n",
    "images2 = func(paths[1])\n",
    "images3 = images + images2"
   ]
  },
  {
   "cell_type": "code",
   "execution_count": null,
   "metadata": {},
   "outputs": [],
   "source": [
    "train, test = sklearn.model_selection.train_test_split(images3, train_size=0.8)\n",
    "\n",
    "print('Training set has {} instances'.format(len(train)))\n",
    "print('Testing set has {} instances'.format(len(test)))\n",
    "\n",
    "tr_loader = torch.utils.data.DataLoader(train, batch_size=BATCH_SIZE, shuffle=True, num_workers=3)\n",
    "te_loader = torch.utils.data.DataLoader(test, batch_size=BATCH_SIZE, shuffle=False, num_workers=3)"
   ]
  },
  {
   "cell_type": "code",
   "execution_count": null,
   "metadata": {},
   "outputs": [],
   "source": [
    "loss_fn = torch.nn.CrossEntropyLoss()\n",
    "optimizer = torch.optim.Adam(finalModel.parameters(), lr=lr)"
   ]
  },
  {
   "cell_type": "code",
   "execution_count": null,
   "metadata": {},
   "outputs": [],
   "source": [
    "def training():\n",
    "    runl = 0\n",
    "    lastl = 0\n",
    "    for i, data in enumerate(tr_loader):\n",
    "        inputs, labels = data\n",
    "        labels = labels.to(device)\n",
    "        inputs = inputs.to(device, dtype=torch.float)\n",
    "        optimizer.zero_grad()\n",
    "        outputs = finalModel(inputs)\n",
    "        outputs = torch.argmax(outputs, dim=1)\n",
    "        outputs = torch.reshape(outputs.type(torch.DoubleTensor), (1, BATCH_SIZE))\n",
    "        outputs.requires_grad=True\n",
    "        labels = torch.reshape(labels.type(torch.DoubleTensor), (1, BATCH_SIZE))\n",
    "        labels.requires_grad=True\n",
    "        loss = loss_fn(outputs, labels)\n",
    "        loss.backward()\n",
    "        optimizer.step()\n",
    "        \n",
    "        runl += loss.item()\n",
    "        if i % 100 == 99:\n",
    "            lastl = runl / 100\n",
    "            print('  batch {} loss: {}'.format(i + 1, lastl))\n",
    "            runl = 0\n",
    "    return lastl"
   ]
  },
  {
   "cell_type": "code",
   "execution_count": 28,
   "metadata": {},
   "outputs": [],
   "source": [
    "def run_training():\n",
    "    for epoch in tqdm(range(EPOCHS)):\n",
    "        print('EPOCH {}:'.format(epoch + 1))\n",
    "        finalModel.train(True)\n",
    "        avg_loss = training()\n",
    "        finalModel.train(False)\n",
    "        if epoch == 0:\n",
    "            best_loss = avg_loss\n",
    "        if best_loss > avg_loss:\n",
    "            best_loss = avg_loss\n",
    "            bestweights = finalModel.state_dict()\n",
    "            bestepoch = epoch + 1\n",
    "    model_path = \"model_{}.pt\".format(bestepoch)\n",
    "    torch.save(bestweights, model_path)\n",
    "\n",
    "run_training()"
   ]
  },
  {
   "cell_type": "markdown",
   "metadata": {},
   "source": [
    "<h1>Testing</h1>"
   ]
  },
  {
   "cell_type": "code",
   "execution_count": null,
   "metadata": {},
   "outputs": [],
   "source": [
    "import sklearn.metrics\n",
    "finalModel.load_state_dict(torch.load(\"./model_20.pt\"))\n",
    "finalModel.eval()\n",
    "print(device)"
   ]
  },
  {
   "cell_type": "code",
   "execution_count": null,
   "metadata": {},
   "outputs": [],
   "source": [
    "def testing():\n",
    "    result = []\n",
    "    result2 = []\n",
    "    for _, data in enumerate(te_loader):\n",
    "        inputs, labels = data\n",
    "        labels = labels.to(device)\n",
    "        inputs = inputs.to(device, dtype=torch.float)\n",
    "        outputs = finalModel(inputs)\n",
    "        labels = labels.cpu().detach().numpy()\n",
    "        inputs = inputs.cpu().detach().numpy()\n",
    "        outputs = outputs.cpu().detach().numpy()\n",
    "        result.append(outputs)\n",
    "        result2.append(labels)\n",
    "    return np.concatenate(result), np.concatenate(result2)\n",
    "outputs, grounds = testing()\n",
    "print(outputs, grounds)\n",
    "outputs = np.argmax(outputs, axis=0)"
   ]
  },
  {
   "cell_type": "code",
   "execution_count": null,
   "metadata": {},
   "outputs": [],
   "source": [
    "print(len(outputs))\n",
    "print(outputs[0].shape)\n",
    "print(outputs)\n",
    "print(grounds)"
   ]
  },
  {
   "cell_type": "code",
   "execution_count": null,
   "metadata": {},
   "outputs": [],
   "source": [
    "print(sklearn.metrics.accuracy_score(grounds, outputs))"
   ]
  },
  {
   "cell_type": "code",
   "execution_count": null,
   "metadata": {},
   "outputs": [],
   "source": [
    "print(sklearn.metrics.confusion_matrix(grounds, outputs))"
   ]
  },
  {
   "cell_type": "code",
   "execution_count": null,
   "metadata": {},
   "outputs": [],
   "source": [
    "input = torch.randn(1,3,224,224, device=\"cuda\")\n",
    "input_names = [ \"actual_input_1\" ] + [ \"learned_%d\" % i for i in range(16) ]\n",
    "output_names = [ \"output1\" ]\n",
    "torch.onnx.export(finalModel, input, \"mobilenet_v2.onnx\", input_names=input_names, output_names=output_names)"
   ]
  },
  {
   "cell_type": "code",
   "execution_count": null,
   "metadata": {},
   "outputs": [],
   "source": []
  }
 ],
 "metadata": {
  "kernelspec": {
   "display_name": "Python 3.8.12 ('DL')",
   "language": "python",
   "name": "python3"
  },
  "language_info": {
   "codemirror_mode": {
    "name": "ipython",
    "version": 3
   },
   "file_extension": ".py",
   "mimetype": "text/x-python",
   "name": "python",
   "nbconvert_exporter": "python",
   "pygments_lexer": "ipython3",
   "version": "3.8.12"
  },
  "orig_nbformat": 4,
  "vscode": {
   "interpreter": {
    "hash": "60653b6c9b7c76181fad61bcca5f8a56c3a5ba90d9a3b68384223e7f917993b1"
   }
  }
 },
 "nbformat": 4,
 "nbformat_minor": 2
}
